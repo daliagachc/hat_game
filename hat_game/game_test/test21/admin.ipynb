{
 "cells": [
  {
   "cell_type": "code",
   "execution_count": 2,
   "metadata": {
    "lines_to_next_cell": 2,
    "scrolled": true
   },
   "outputs": [],
   "source": [
    "%load_ext autoreload\n",
    "%autoreload 2"
   ]
  },
  {
   "cell_type": "code",
   "execution_count": 3,
   "metadata": {
    "lines_to_next_cell": 2,
    "scrolled": true
   },
   "outputs": [
    {
     "name": "stderr",
     "output_type": "stream",
     "text": [
      "2020-05-02 22:54:47,518 hat_game     DEBUG    import hat game util\n"
     ]
    }
   ],
   "source": [
    "from hat_game.util.util import Game"
   ]
  },
  {
   "cell_type": "code",
   "execution_count": 18,
   "metadata": {},
   "outputs": [],
   "source": [
    "player_team_dic = {\n",
    "    'diego':'a',\n",
    "    'sara':'b'\n",
    "}"
   ]
  },
  {
   "cell_type": "code",
   "execution_count": 80,
   "metadata": {
    "lines_to_next_cell": 2,
    "scrolled": true
   },
   "outputs": [],
   "source": [
    "g = Game(\n",
    "    game_name='test21', \n",
    "    password='PASS', \n",
    "    timer_secs = 5,\n",
    "    number_of_words = 2,\n",
    "    number_of_rounds = 4,\n",
    "    admin_mode = True,\n",
    "    root_game_folder='../',\n",
    "    player_team_dic = player_team_dic,\n",
    "    drop_db_if_exist=True,\n",
    ")"
   ]
  },
  {
   "cell_type": "code",
   "execution_count": 82,
   "metadata": {},
   "outputs": [],
   "source": [
    "g.all_show_words()"
   ]
  },
  {
   "cell_type": "code",
   "execution_count": 83,
   "metadata": {},
   "outputs": [],
   "source": [
    "g.all_set_center_banner()"
   ]
  },
  {
   "cell_type": "code",
   "execution_count": 24,
   "metadata": {},
   "outputs": [],
   "source": [
    "g.db.add_update_config_val('timer_on','0','int')"
   ]
  },
  {
   "cell_type": "code",
   "execution_count": 97,
   "metadata": {},
   "outputs": [],
   "source": [
    "g.db.add_update_config_val('current_player','sara','str')\n",
    "g.db.add_update_config_val('current_round','3','int')\n",
    "g.db.add_update_config_val('timer_secs','30','int')\n",
    "g.activate_current_player()\n",
    "# g.db.add_update_config_val('timer_on','0','int')\n",
    "# g.db.add_update_config_val('number_of_words','10','int')"
   ]
  },
  {
   "cell_type": "code",
   "execution_count": 91,
   "metadata": {},
   "outputs": [],
   "source": []
  },
  {
   "cell_type": "code",
   "execution_count": 76,
   "metadata": {},
   "outputs": [
    {
     "data": {
      "text/plain": [
       "{'game_name': 'test21',\n",
       " 'password': 'PASS',\n",
       " 'number_of_rounds': 4,\n",
       " 'current_player': 'sara',\n",
       " 'current_round': 4,\n",
       " 'timer_secs': 30,\n",
       " 'timer_on': 0,\n",
       " 'number_of_words': 10}"
      ]
     },
     "execution_count": 76,
     "metadata": {},
     "output_type": "execute_result"
    }
   ],
   "source": [
    "g.db.get_config_dic()"
   ]
  },
  {
   "cell_type": "code",
   "execution_count": 79,
   "metadata": {},
   "outputs": [],
   "source": [
    "g.all_set_center_banner()"
   ]
  },
  {
   "cell_type": "code",
   "execution_count": 50,
   "metadata": {},
   "outputs": [],
   "source": [
    "g.db._close_conn()"
   ]
  },
  {
   "cell_type": "code",
   "execution_count": 47,
   "metadata": {},
   "outputs": [],
   "source": [
    "g.db._connect()"
   ]
  },
  {
   "cell_type": "code",
   "execution_count": null,
   "metadata": {},
   "outputs": [],
   "source": []
  }
 ],
 "metadata": {
  "jupytext": {
   "text_representation": {
    "extension": ".py",
    "format_name": "percent",
    "format_version": "1.3",
    "jupytext_version": "1.4.2"
   }
  },
  "kernelspec": {
   "display_name": "Python 3",
   "language": "python",
   "name": "python3"
  },
  "language_info": {
   "codemirror_mode": {
    "name": "ipython",
    "version": 3
   },
   "file_extension": ".py",
   "mimetype": "text/x-python",
   "name": "python",
   "nbconvert_exporter": "python",
   "pygments_lexer": "ipython3",
   "version": "3.7.6"
  }
 },
 "nbformat": 4,
 "nbformat_minor": 4
}
