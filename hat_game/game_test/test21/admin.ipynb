{
 "cells": [
  {
   "cell_type": "code",
   "execution_count": 1,
   "metadata": {
    "lines_to_next_cell": 2,
    "scrolled": true
   },
   "outputs": [],
   "source": [
    "%load_ext autoreload\n",
    "%autoreload 2"
   ]
  },
  {
   "cell_type": "code",
   "execution_count": 2,
   "metadata": {
    "lines_to_next_cell": 2,
    "scrolled": true
   },
   "outputs": [
    {
     "name": "stderr",
     "output_type": "stream",
     "text": [
      "2020-05-01 23:45:57,691 hat_game     DEBUG    import hat game util\n"
     ]
    }
   ],
   "source": [
    "from hat_game.util.util import Game"
   ]
  },
  {
   "cell_type": "code",
   "execution_count": 3,
   "metadata": {},
   "outputs": [],
   "source": [
    "player_team_dic = {\n",
    "    'diego':'a',\n",
    "    'sara':'b'\n",
    "}"
   ]
  },
  {
   "cell_type": "code",
   "execution_count": 4,
   "metadata": {
    "lines_to_next_cell": 2,
    "scrolled": true
   },
   "outputs": [
    {
     "name": "stderr",
     "output_type": "stream",
     "text": [
      "2020-05-01 23:46:19,565 hat_game     DEBUG    \n",
      "        insert into teams \n",
      "        (team)\n",
      "        values ('a')\n",
      "        \n",
      "2020-05-01 23:46:19,570 hat_game     DEBUG    \n",
      "        insert into teams \n",
      "        (team)\n",
      "        values ('b')\n",
      "        \n"
     ]
    }
   ],
   "source": [
    "g = Game(\n",
    "    game_name='test21', \n",
    "    password='PASS', \n",
    "    admin_mode = True,\n",
    "    root_game_folder='../',\n",
    "    player_team_dic = player_team_dic,\n",
    "#     drop_db_if_exist=True,\n",
    ")"
   ]
  },
  {
   "cell_type": "code",
   "execution_count": 5,
   "metadata": {},
   "outputs": [],
   "source": [
    "g.generate_all_players_nb()"
   ]
  },
  {
   "cell_type": "code",
   "execution_count": null,
   "metadata": {},
   "outputs": [],
   "source": []
  }
 ],
 "metadata": {
  "kernelspec": {
   "display_name": "Python 3",
   "language": "python",
   "name": "python3"
  },
  "language_info": {
   "codemirror_mode": {
    "name": "ipython",
    "version": 3
   },
   "file_extension": ".py",
   "mimetype": "text/x-python",
   "name": "python",
   "nbconvert_exporter": "python",
   "pygments_lexer": "ipython3",
   "version": "3.7.6"
  }
 },
 "nbformat": 4,
 "nbformat_minor": 4
}
