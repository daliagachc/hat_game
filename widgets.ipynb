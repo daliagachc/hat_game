{
 "cells": [
  {
   "cell_type": "code",
   "execution_count": 1,
   "metadata": {},
   "outputs": [],
   "source": [
    "import ipywidgets\n",
    "import numpy as np\n",
    "import pandas as pd\n",
    "import ipywidgets as widgets\n"
   ]
  },
  {
   "cell_type": "markdown",
   "metadata": {},
   "source": [
    "## Display word:"
   ]
  },
  {
   "cell_type": "code",
   "execution_count": 2,
   "metadata": {},
   "outputs": [],
   "source": [
    "from IPython.display import display"
   ]
  },
  {
   "cell_type": "code",
   "execution_count": 4,
   "metadata": {},
   "outputs": [],
   "source": [
    "test_df = pd.DataFrame(['Guitar','check','Diego','Sara','bucket','Lost','quarantine'])"
   ]
  },
  {
   "cell_type": "code",
   "execution_count": 21,
   "metadata": {},
   "outputs": [
    {
     "name": "stdout",
     "output_type": "stream",
     "text": [
      "Hey! Starting!\n"
     ]
    },
    {
     "data": {
      "application/vnd.jupyter.widget-view+json": {
       "model_id": "39bdb51a28374b43b3d8aeedf337dc32",
       "version_major": 2,
       "version_minor": 0
      },
      "text/plain": [
       "HBox(children=(Button(description='I explained it!', icon='check', style=ButtonStyle(), tooltip='Click me'), B…"
      ]
     },
     "metadata": {},
     "output_type": "display_data"
    },
    {
     "data": {
      "application/vnd.jupyter.widget-view+json": {
       "model_id": "a88257a1d1224cb49c06d8d1d04859d2",
       "version_major": 2,
       "version_minor": 0
      },
      "text/plain": [
       "VBox(children=(Button(description='new word', icon='check', style=ButtonStyle(), tooltip='Click me'), Output()…"
      ]
     },
     "metadata": {},
     "output_type": "display_data"
    }
   ],
   "source": [
    "class HatGui:\n",
    "    points=0\n",
    "    b_exp= widgets.Button(\n",
    "    description='I explained it!',\n",
    "    disabled=False,\n",
    "    button_style='', # 'success', 'info', 'warning', 'danger' or ''\n",
    "    tooltip='Click me',\n",
    "    icon='check'\n",
    "    )\n",
    "    b_putback=widgets.Button(\n",
    "    description='Put back :/',\n",
    "    disabled=False,\n",
    "    button_style='', # 'success', 'info', 'warning', 'danger' or ''\n",
    "    tooltip='Click me',\n",
    "    icon='check'\n",
    "    )\n",
    "    b_nw= widgets.Button(\n",
    "    description='new word',\n",
    "    disabled=False,\n",
    "    button_style='', # 'success', 'info', 'warning', 'danger' or ''\n",
    "    tooltip='Click me',\n",
    "    icon='check'\n",
    "    )\n",
    "    output1 = widgets.Output()\n",
    "    output_w = widgets.Output()\n",
    "    \n",
    "    def __init__(self):\n",
    "        print('Hey! Starting!')\n",
    "        self.currentWord= None\n",
    "        self.currentWordWidg=None\n",
    "        self.current_display_points=None\n",
    "    def start_game(self):\n",
    "        self.b_exp.on_click(self.clicked_explained)\n",
    "        self.b_putback.on_click(self.clicked_putback)\n",
    "        self.b_nw.on_click(self.clicked_new_word)\n",
    "        buttons=widgets.HBox([self.b_exp, self.b_putback, self.output1])#, self.b_nw])\n",
    "        out = widgets.VBox([self.b_nw, self.output_w])\n",
    "        display(buttons)\n",
    "        display(out)\n",
    "        #display(self.b_exp)\n",
    "        #display(self.b_putback, self.output)\n",
    "        #display(self.b_nw)\n",
    "\n",
    "        # display buttons\n",
    "        return\n",
    "    def _get_new_word(self,):\n",
    "        ii= np.random.randint(len(test_df))\n",
    "        return(test_df.loc[ii,0])\n",
    "    \n",
    "    def display_new_word(self):\n",
    "        return self.display_word(self._get_new_word())\n",
    "        \n",
    "    def display_word(self, word, description='Word:'):\n",
    "        w= widgets.HTML(\n",
    "            value=\"%s\"%word,\n",
    "            placeholder=description,\n",
    "            description=description,\n",
    "            )\n",
    "        self.currentWordWidg = w\n",
    "        display(w)\n",
    "        return w\n",
    "\n",
    "    \n",
    "    def clicked_new_word(self, b):\n",
    "        if self.currentWordWidg is not None:\n",
    "            self.currentWordWidg.close()\n",
    "        with self.output_w:\n",
    "            w=self.display_new_word()\n",
    "            self.currentWordWidg= w\n",
    "            \n",
    "\n",
    "    def clicked_explained(self,b):\n",
    "        #self.currentWordWidg.close()\n",
    "        self.points = self.points + 1\n",
    "        if self.current_display_points is not None:\n",
    "            self.current_display_points.close()\n",
    "        with self.output1:\n",
    "            self.current_display_points=self.display_word('Explained! +1, current score:%s'%self.points\n",
    "                                                          , description='')\n",
    "            \n",
    "        #self.points = self.points+1\n",
    "        #with self.output1:\n",
    "        #   print('Explained it ')\n",
    "    def clicked_putback(self, b):\n",
    "        self.points = self.points-1\n",
    "        if self.current_display_points is not None:\n",
    "            self.current_display_points.close()\n",
    "        with self.output1:\n",
    "            self.current_display_points=self.display_word('Put back! -1, current score:%s'%self.points,\n",
    "                                                         description='')\n",
    "\n",
    "        #with self.output1:\n",
    "        #    print('Word put back :/')\n",
    "\n",
    "\n",
    "ha = HatGui()\n",
    "ha.start_game()"
   ]
  },
  {
   "cell_type": "code",
   "execution_count": null,
   "metadata": {},
   "outputs": [],
   "source": []
  }
 ],
 "metadata": {
  "kernelspec": {
   "display_name": "Python 3",
   "language": "python",
   "name": "python3"
  },
  "language_info": {
   "codemirror_mode": {
    "name": "ipython",
    "version": 3
   },
   "file_extension": ".py",
   "mimetype": "text/x-python",
   "name": "python",
   "nbconvert_exporter": "python",
   "pygments_lexer": "ipython3",
   "version": "3.7.3"
  }
 },
 "nbformat": 4,
 "nbformat_minor": 4
}
